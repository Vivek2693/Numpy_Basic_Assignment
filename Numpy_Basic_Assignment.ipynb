{
 "cells": [
  {
   "cell_type": "code",
   "execution_count": 1,
   "id": "5cee340e",
   "metadata": {},
   "outputs": [
    {
     "name": "stdout",
     "output_type": "stream",
     "text": [
      "Data type of list_: <class 'str'>\n",
      "Data type of array_list: <U1\n",
      "Data types of elements in list_: [<class 'str'>, <class 'str'>, <class 'str'>, <class 'str'>, <class 'str'>]\n",
      "Data types of elements in array_list: <U1\n",
      "Data types of elements in list_ (before): [<class 'str'>, <class 'str'>, <class 'str'>, <class 'str'>, <class 'str'>]\n",
      "Data types of elements in array_list (after): int32\n",
      "Shape of num_array: (2, 3)\n",
      "Size of num_array: 6\n",
      "3x3 matrix containing zeros:\n",
      " [[0. 0. 0.]\n",
      " [0. 0. 0.]\n",
      " [0. 0. 0.]]\n",
      "Identity matrix of shape (5, 5):\n",
      " [[1. 0. 0. 0. 0.]\n",
      " [0. 1. 0. 0. 0.]\n",
      " [0. 0. 1. 0. 0.]\n",
      " [0. 0. 0. 1. 0.]\n",
      " [0. 0. 0. 0. 1.]]\n"
     ]
    }
   ],
   "source": [
    "import numpy as np\n",
    "\n",
    "# Q1. Is there any difference in the data type of variables `list_` and `array_list`? \n",
    "# If there is, then write code to print the data types of both the variables.\n",
    "\n",
    "list_ = ['1', '2', '3', '4', '5']\n",
    "array_list = np.array(object=list_)\n",
    "\n",
    "# Check and print data types\n",
    "if list_:\n",
    "    print(f\"Data type of list_: {type(list_[0])}\")\n",
    "if array_list.size > 0:\n",
    "    print(f\"Data type of array_list: {array_list.dtype}\")\n",
    "\n",
    "# Q2. Write code to print the data type of each and every element of both the variables `list_` and `array_list`.\n",
    "\n",
    "# Print data types of each element\n",
    "if list_:\n",
    "    print(f\"Data types of elements in list_: {[type(item) for item in list_]}\")\n",
    "if array_list.size > 0:\n",
    "    print(f\"Data types of elements in array_list: {array_list.dtype}\")\n",
    "\n",
    "# Q3. Considering the following changes in the variable `array_list`:\n",
    "# array_list = np.array(object=list_, dtype=int)\n",
    "# Will there be any difference in the data type of the elements present in both the variables, `list_` and `array_list`? \n",
    "# If so, then print the data types of each and every element present in both the variables, `list_` and `array_list`.\n",
    "\n",
    "# Check and print data types after dtype conversion\n",
    "array_list = np.array(object=list_, dtype=int)\n",
    "if list_:\n",
    "    print(f\"Data types of elements in list_ (before): {[type(item) for item in list_]}\")\n",
    "if array_list.size > 0:\n",
    "    print(f\"Data types of elements in array_list (after): {array_list.dtype}\")\n",
    "\n",
    "# Q4. Write code to find the following characteristics of variable, `num_array`:\n",
    "# (i) shape\n",
    "# (ii) size\n",
    "\n",
    "num_list = [[1, 2, 3], [4, 5, 6]]\n",
    "num_array = np.array(object=num_list)\n",
    "\n",
    "# (i) Shape\n",
    "print(f\"Shape of num_array: {num_array.shape}\")\n",
    "\n",
    "# (ii) Size\n",
    "print(f\"Size of num_array: {num_array.size}\")\n",
    "\n",
    "# Q5. Write code to create a numpy array of a 3x3 matrix containing zeros only, using a numpy array creation function.\n",
    "\n",
    "zeros_array = np.zeros((3, 3))\n",
    "print(\"3x3 matrix containing zeros:\\n\", zeros_array)\n",
    "\n",
    "# Q6. Create an identity matrix of shape (5, 5) using numpy functions?\n",
    "\n",
    "identity_matrix = np.identity(5)\n",
    "print(\"Identity matrix of shape (5, 5):\\n\", identity_matrix)\n"
   ]
  },
  {
   "cell_type": "code",
   "execution_count": 2,
   "id": "8a51b4a6",
   "metadata": {},
   "outputs": [
    {
     "name": "stdout",
     "output_type": "stream",
     "text": [
      "Data type of array_list: int32\n"
     ]
    }
   ],
   "source": [
    " print(f\"Data type of array_list: {array_list.dtype}\")"
   ]
  },
  {
   "cell_type": "code",
   "execution_count": null,
   "id": "35890699",
   "metadata": {},
   "outputs": [],
   "source": []
  }
 ],
 "metadata": {
  "kernelspec": {
   "display_name": "Python 3 (ipykernel)",
   "language": "python",
   "name": "python3"
  },
  "language_info": {
   "codemirror_mode": {
    "name": "ipython",
    "version": 3
   },
   "file_extension": ".py",
   "mimetype": "text/x-python",
   "name": "python",
   "nbconvert_exporter": "python",
   "pygments_lexer": "ipython3",
   "version": "3.10.9"
  }
 },
 "nbformat": 4,
 "nbformat_minor": 5
}
